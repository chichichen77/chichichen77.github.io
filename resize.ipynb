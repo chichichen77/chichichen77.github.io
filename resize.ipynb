{
 "cells": [
  {
   "cell_type": "code",
   "execution_count": 24,
   "metadata": {},
   "outputs": [
    {
     "name": "stdout",
     "output_type": "stream",
     "text": [
      "(9824, 13934)\n",
      "(600, 800)\n"
     ]
    }
   ],
   "source": [
    "from PIL import Image\n",
    "\n",
    "\n",
    "\n",
    "name = Image.open('./assets/images/Resume/Certifications/FJCUBigDataMicro_org.jpg')\n",
    "print(name.size)\n",
    "width, height = name.size\n",
    "name = name.resize((600,800))\n",
    "\n",
    "name.save('./assets/images/Resume/Certifications/FJCUBigDataMicro_org_resize.jpg')\n",
    "print(name.size)\n"
   ]
  },
  {
   "cell_type": "markdown",
   "metadata": {},
   "source": [
    "winnie-size(118,164)"
   ]
  },
  {
   "cell_type": "markdown",
   "metadata": {},
   "source": [
    "<li class=\"update-item\">\n",
    "              <div class=\"content-card\" data-update-item>\n",
    "\n",
    "                <figure class=\"update-avatar-box\">\n",
    "                  <img src=\"./assets/images/Advatar/avatar-3.png\" alt=\"Emily evans\" width=\"60\" data-update-avatar>\n",
    "                </figure>\n",
    "\n",
    "                <h4 class=\"h4 update-item-title\" data-update-title>Emily evans</h4>\n",
    "\n",
    "                <div class=\"update-text\" data-update-text>\n",
    "                  <p>\n",
    "                    Richard was hired to create a corporate identity. We were very pleased with the work done. She has a\n",
    "                    lot of experience\n",
    "                    and is very concerned about the needs of client. Lorem ipsum dolor sit amet, ullamcous cididt\n",
    "                    consectetur adipiscing\n",
    "                    elit, seds do et eiusmod tempor incididunt ut laborels dolore magnarels alia.\n",
    "                  </p>\n",
    "                </div>\n",
    "\n",
    "              </div>\n",
    "            </li>\n",
    "\n",
    "            <li class=\"update-item\">\n",
    "              <div class=\"content-card\" data-update-item>\n",
    "\n",
    "                <figure class=\"update-avatar-box\">\n",
    "                  <img src=\"./assets/images/Advatar/avatar-4.png\" alt=\"Henry william\" width=\"60\" data-update-avatar>\n",
    "                </figure>\n",
    "\n",
    "                <h4 class=\"h4 update-item-title\" data-update-title>Henry william</h4>\n",
    "\n",
    "                <div class=\"update-text\" data-update-text>\n",
    "                  <p>\n",
    "                    Richard was hired to create a corporate identity. We were very pleased with the work done. She has a\n",
    "                    lot of experience\n",
    "                    and is very concerned about the needs of client. Lorem ipsum dolor sit amet, ullamcous cididt\n",
    "                    consectetur adipiscing\n",
    "                    elit, seds do et eiusmod tempor incididunt ut laborels dolore magnarels alia.\n",
    "                  </p>\n",
    "                </div>\n",
    "\n",
    "              </div>\n",
    "            </li>"
   ]
  },
  {
   "cell_type": "markdown",
   "metadata": {},
   "source": [
    "<li class=\"update-item\">\n",
    "              <div class=\"content-card\" data-update-item>\n",
    "\n",
    "                <figure class=\"update-avatar-box\">\n",
    "                  <img src=\"./assets/images/About/ITRI-icon.png\" alt=\"ITRI-icon\" width=\"60\" data-update-avatar>\n",
    "                </figure>\n",
    "\n",
    "                <h4 class=\"h4 update-item-title\" data-update-title>Recently working at ITRI.</h4>\n",
    "\n",
    "                <div class=\"update-text\" data-update-text>\n",
    "                  <p>\n",
    "                    I'm researching about computer vision related programs! Welcome to discuss with me!\n",
    "                  </p>\n",
    "                </div>\n",
    "\n",
    "              </div>\n",
    "            </li>"
   ]
  }
 ],
 "metadata": {
  "kernelspec": {
   "display_name": "Python 3",
   "language": "python",
   "name": "python3"
  },
  "language_info": {
   "codemirror_mode": {
    "name": "ipython",
    "version": 3
   },
   "file_extension": ".py",
   "mimetype": "text/x-python",
   "name": "python",
   "nbconvert_exporter": "python",
   "pygments_lexer": "ipython3",
   "version": "3.12.4"
  }
 },
 "nbformat": 4,
 "nbformat_minor": 2
}
