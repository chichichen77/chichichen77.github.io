{
 "cells": [
  {
   "cell_type": "code",
   "execution_count": 2,
   "metadata": {},
   "outputs": [
    {
     "name": "stdout",
     "output_type": "stream",
     "text": [
      "(3072, 3072)\n",
      "(100, 100)\n"
     ]
    }
   ],
   "source": [
    "from PIL import Image\n",
    "\n",
    "name = Image.open('./assets/images/Advatar/my-pic-nobackground2.PNG')\n",
    "print(name.size)\n",
    "name = name.resize((300,300), Image.LANCZOS)\n",
    "name.save('./assets/images/Advatar/my-pic-nobackground2.PNG')\n",
    "print(name.size)"
   ]
  }
 ],
 "metadata": {
  "kernelspec": {
   "display_name": "Python 3",
   "language": "python",
   "name": "python3"
  },
  "language_info": {
   "codemirror_mode": {
    "name": "ipython",
    "version": 3
   },
   "file_extension": ".py",
   "mimetype": "text/x-python",
   "name": "python",
   "nbconvert_exporter": "python",
   "pygments_lexer": "ipython3",
   "version": "3.12.4"
  }
 },
 "nbformat": 4,
 "nbformat_minor": 2
}
